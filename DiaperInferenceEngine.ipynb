{
 "cells": [
  {
   "cell_type": "code",
   "execution_count": null,
   "id": "3d29f634",
   "metadata": {},
   "outputs": [],
   "source": [
    "!python -m site"
   ]
  },
  {
   "cell_type": "code",
   "execution_count": null,
   "id": "36becf57",
   "metadata": {},
   "outputs": [],
   "source": [
    "import os\n",
    "import sys\n",
    "import cv2\n",
    "import pandas as pd\n",
    "from tqdm import tqdm\n",
    "from matplotlib import pyplot as plt\n",
    "\n",
    "sys.path.append(r'C:\\work\\PycharmProjects\\yolov5\\yolov5')\n",
    "from DiaperAIAU.Things import readyolov5txt2things\n",
    "from DiaperAIAU.Interaction import PostureWrapper, ActionWrapper, ComboactionWrapper\n",
    "from utils.general import classtxt2classlist"
   ]
  },
  {
   "cell_type": "markdown",
   "id": "7a2bcdec",
   "metadata": {},
   "source": [
    "# 單frame測試"
   ]
  },
  {
   "cell_type": "code",
   "execution_count": null,
   "id": "b2507d8f",
   "metadata": {},
   "outputs": [],
   "source": [
    "video_path = r'C:\\work\\proj\\auocare\\2c_20210518-20210524\\20210518AM\\dlink_2c-20210518-115922-1621310362.mp4'\n",
    "video = cv2.VideoCapture(video_path)\n",
    "video_width = int(video.get(cv2.CAP_PROP_FRAME_WIDTH))\n",
    "video_height = int(video.get(cv2.CAP_PROP_FRAME_HEIGHT))\n",
    "video_fps = int(video.get(cv2.CAP_PROP_FPS))\n",
    "print('video_width', video_width, 'video_height', video_height)\n",
    "print('video_fps', video_fps)"
   ]
  },
  {
   "cell_type": "code",
   "execution_count": null,
   "id": "d49ad06c",
   "metadata": {},
   "outputs": [],
   "source": [
    "# label_path = r'C:\\work\\proj\\auocare\\video2img_fps1\\dlink_2c-20210518-115922-1621310362.mp4\\classes.txt'\n",
    "# names = classtxt2classlist(label_path)\n",
    "# print('names',names)"
   ]
  },
  {
   "cell_type": "code",
   "execution_count": null,
   "id": "809c2235",
   "metadata": {},
   "outputs": [],
   "source": [
    "# txt_path = r'C:\\work\\proj\\auocare\\output_diaper\\dlink_2c-20210518-115922-1621310362.mp4\\labels\\dlink_2c-20210518-115922-1621310362_1996.txt'\n",
    "# activethings = readyolov5txt2things(txt_path,names,video_width,video_height)\n",
    "# print('activethings',activethings)"
   ]
  },
  {
   "cell_type": "code",
   "execution_count": null,
   "id": "cb489b10",
   "metadata": {},
   "outputs": [],
   "source": [
    "# workarea = np.array([914,426,1245,666])\n",
    "# filterarea = None\n",
    "# postobj = PostureWrapper(workarea,filterarea)\n",
    "# post = postobj.getpost(activethings)\n",
    "# post"
   ]
  },
  {
   "cell_type": "markdown",
   "id": "f45c9e11",
   "metadata": {},
   "source": [
    "# 多frame紀錄"
   ]
  },
  {
   "cell_type": "code",
   "execution_count": null,
   "id": "40dc8008",
   "metadata": {},
   "outputs": [],
   "source": [
    "txt_dir_human = r'C:\\work\\proj\\auocare\\output_HDplot\\dlink_2c-20210518-115922-1621310362.mp4\\labels'\n",
    "txt_dir_diaper = r'C:\\work\\proj\\auocare\\output_diaper\\dlink_2c-20210518-115922-1621310362.mp4\\labels'\n",
    "label_path_diaper = r'C:\\work\\proj\\auocare\\video2img_fps1\\dlink_2c-20210518-115922-1621310362.mp4\\classes.txt'\n",
    "video_name = r'dlink_2c-20210518-115922-1621310362'\n",
    "output_dir = r'output_postfeature_diaper'\n",
    "output_name = 'postfeature_05181159-nofixlocalfinishonlydiaper'\n",
    "\n",
    "names_diaper = classtxt2classlist(label_path_diaper)\n",
    "names_human = ['person']\n",
    "\n",
    "# diaperworkarea = np.array([914,426,1245,666])\n",
    "# personworkarea = np.array([895,299,1315,981])\n",
    "# personworkarea = np.array([859,226,1353,1004])\n",
    "diaperworkarea = None\n",
    "personworkarea = None\n",
    "filterarea = None\n",
    "postobj = PostureWrapper(diaperworkarea, personworkarea, filterarea)\n",
    "\n",
    "window_sec = 1\n",
    "thres_p = 0.3\n",
    "window = {'takediapernotinarea': int(window_sec * video_fps),\n",
    "          'personinarea': int(window_sec * video_fps),\n",
    "          'diaperinarea': int(window_sec * video_fps)}\n",
    "threscount = {'takediapernotinarea': int(window_sec * video_fps * thres_p),\n",
    "              'personinarea': int(window_sec * video_fps * thres_p),\n",
    "              'diaperinarea': int(window_sec * video_fps * thres_p)}\n",
    "actionobj = ActionWrapper(window, threscount)\n",
    "\n",
    "forget_sec = 60\n",
    "patient = int(video_fps * forget_sec)\n",
    "comboactionobj = ComboactionWrapper(patient)\n",
    "\n",
    "postdf = pd.DataFrame()\n",
    "actiondf = pd.DataFrame()\n",
    "\n",
    "for i in tqdm(range(51000)):\n",
    "    # for i in [13822]:\n",
    "    txt_path_human = os.path.join(txt_dir_human, video_name + '_' + str(i) + '.txt')\n",
    "    txt_path_diaper = os.path.join(txt_dir_diaper, video_name + '_' + str(i) + '.txt')\n",
    "    activethings_human = readyolov5txt2things(txt_path_human, names_human, video_width, video_height) if os.path.exists(\n",
    "        txt_path_human) else []\n",
    "    activethings_diaper = readyolov5txt2things(txt_path_diaper, names_diaper, video_width,\n",
    "                                               video_height) if os.path.exists(txt_path_diaper) else []\n",
    "    activethings = activethings_human + activethings_diaper\n",
    "    post = postobj.getpost(activethings)\n",
    "    postdf = postdf.append(post, ignore_index=True)\n",
    "    actionresult = actionobj.getaction(postdf)\n",
    "    actionresult['status'], actionresult['nochangenum'] = comboactionobj.update(actionresult)\n",
    "    actiondf = actiondf.append(actionresult, ignore_index=True)\n",
    "\n",
    "#     print(i,post)\n",
    "outputdf = pd.concat([postdf, actiondf], axis=1)\n",
    "outputdf.to_csv(os.path.join(output_dir, output_name + '.csv'), index=False)"
   ]
  },
  {
   "cell_type": "code",
   "execution_count": null,
   "id": "916c4a0a",
   "metadata": {},
   "outputs": [],
   "source": [
    "encoder = {'waittrigger': 0, 'takediapernotinarea': 1, 'twopersoninarea': 2, 'replacediaper': 3, 'finish': 4}\n",
    "outputdf['status'].map(encoder)\n",
    "outputdf['statusnum'] = outputdf['status'].map(encoder)"
   ]
  },
  {
   "cell_type": "code",
   "execution_count": null,
   "id": "c6512a1d",
   "metadata": {},
   "outputs": [],
   "source": [
    "outputdf.columns"
   ]
  },
  {
   "cell_type": "code",
   "execution_count": null,
   "id": "916fb611",
   "metadata": {},
   "outputs": [],
   "source": [
    "outputdf[:20000].plot(kind='line', y='statusnum', figsize=(16, 4))"
   ]
  },
  {
   "cell_type": "code",
   "execution_count": null,
   "id": "55595027",
   "metadata": {},
   "outputs": [],
   "source": [
    "fig, ax = plt.subplots(nrows=2, ncols=1, figsize=(16, 8))\n",
    "outputdf[:20000].plot(kind='line', y=outputdf.columns[2:-2], ax=ax[0])\n",
    "outputdf[:20000].plot(kind='line', y='statusnum', ax=ax[1])\n",
    "# plt.show()\n",
    "plt.savefig(os.path.join(output_dir, output_name + '-2plot.jpg'))"
   ]
  },
  {
   "cell_type": "code",
   "execution_count": null,
   "id": "a1ef995b",
   "metadata": {},
   "outputs": [],
   "source": [
    "outputdf[:20000].plot(kind='line', y=outputdf.columns[2:-2], figsize=(16, 6))\n",
    "# plt.show()\n",
    "plt.savefig(os.path.join(output_dir, output_name + '-1plot.jpg'))"
   ]
  },
  {
   "cell_type": "code",
   "execution_count": null,
   "id": "f3d7d3f9",
   "metadata": {},
   "outputs": [],
   "source": [
    "cols = outputdf.columns[outputdf.dtypes != 'object']\n",
    "fig, ax = plt.subplots(nrows=len(cols), ncols=1, figsize=(16, 16))\n",
    "for i, col in enumerate(cols):\n",
    "    outputdf[:20000].plot(kind='line', y=col, ax=ax[i])\n",
    "# plt.show()\n",
    "plt.savefig(os.path.join(output_dir, output_name + '-allplot.jpg'))"
   ]
  },
  {
   "cell_type": "code",
   "execution_count": null,
   "id": "9fa59e3a",
   "metadata": {},
   "outputs": [],
   "source": [
    "# postdf = pd.read_csv('postfeature_05181159-1.csv',index_col=0)"
   ]
  }
 ],
 "metadata": {
  "jupytext": {
   "encoding": "# -*- coding: utf-8 -*-"
  },
  "kernelspec": {
   "display_name": "Python 3",
   "language": "python",
   "name": "python3"
  },
  "language_info": {
   "codemirror_mode": {
    "name": "ipython",
    "version": 3
   },
   "file_extension": ".py",
   "mimetype": "text/x-python",
   "name": "python",
   "nbconvert_exporter": "python",
   "pygments_lexer": "ipython3",
   "version": "3.7.10"
  }
 },
 "nbformat": 4,
 "nbformat_minor": 5
}
